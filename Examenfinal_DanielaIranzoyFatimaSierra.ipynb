{
  "nbformat": 4,
  "nbformat_minor": 0,
  "metadata": {
    "colab": {
      "provenance": []
    },
    "kernelspec": {
      "name": "python3",
      "display_name": "Python 3"
    },
    "language_info": {
      "name": "python"
    }
  },
  "cells": [
    {
      "cell_type": "code",
      "execution_count": null,
      "metadata": {
        "id": "-r5KCO4Y-Jki"
      },
      "outputs": [],
      "source": [
        "# the statsmodels.api uses numpy array notation\n",
        "# statsmodels.formula.api use formula notation (similar to R's formula notation)\n",
        "import numpy as np\n",
        "import pandas as pd\n",
        "import matplotlib.pyplot as plt\n",
        "import seaborn as sns\n",
        "import statsmodels.api as sm\n",
        "import statsmodels.formula.api as smf\n",
        "\n",
        "\n",
        "import warnings\n",
        "warnings.filterwarnings(\"ignore\")"
      ]
    },
    {
      "cell_type": "code",
      "source": [
        "import pandas as pd\n",
        "from statsmodels.formula.api import ols\n",
        "\n",
        "Races = [250,\t240,\t311,\t313,\t206,\t307,\t139,\t306,\t269,\t215,\t171,\n",
        "               102,\t199,\t322,\t161, 176, 246, 78,\t204,\t188,\t173,\t161,\t164,\n",
        "               210,\t100,\t115,\t180,\t146,\t94,\t42,\t 177,\t145,\t256,\t58,\t230,\n",
        "               72,\t97,\t102,\t127,\t183,\t112,\t112,\t252,\t201,\t164, 176,\t131,\n",
        "               116,\t123,\t102]\n",
        "\n",
        "Driver  = [\"Lewis Hamilton\",\t\"Sebastian Vettel\",\t\"Fernando Alonso\",\t\"Kimi Räikkönen\",\n",
        "           \"Nico Rosberg\",\t\"Michael Schumacher\",\t\"Valtteri Bottas\",\t\"Jenson Button\",\n",
        "           \"Felipe Massa\",\t\"Mark Webber\",\t\"Daniel Ricciardo\",\t\"Max Verstappen\",\n",
        "           \"Alain Prost\",\t\"Rubens Barrichello\",\t\"Ayrton Senna\",\t\"Sergio Pérez\",\n",
        "           \"David Coulthard\",\t\"Nico Hülkenberg\",\t\"Nelson Piquet\",\t\"Nigel Mansell\",\n",
        "           \"Niki Lauda\",\t\"Mika Häkkinen\",\t\"Romain Grosjean\",\t\"Gerhard Berger\",\n",
        "           \"Jackie Stewart\",\t\"Damon Hill\",\t\"Ralf Schumacher\",\t\"Carlos Reutemann\",\n",
        "           \"Juan Pablo Montoya\",\t\"Charles Leclerc\",\t\"Graham Hill\",\t\"Emerson Fittipaldi\",\n",
        "           \"Riccardo Patrese\",\t\"Juan Manuel Fangio\",\t\"Giancarlo Fisichella\",\t\"Jim Clark\",\n",
        "           \"Robert Kubica\",\t\"Carlos Sainz Jr.\",\t\"Jack Brabham\",\t\"Nick Heidfeld\",\n",
        "           \"Jody Scheckter\",\t\"Denny Hulme\",\t\"Jarno Trulli\",\t\"Jean Alesi\",\t\"Jacques Villeneuve\",\n",
        "           \"Jacques Laffite\",\t\"Clay Regazzoni\",\t\"Alan Jones\",\t\"Ronnie Peterson\",\t\"Bruce McLaren\"]\n",
        "\n",
        "Wins = [84,\t53,\t32,\t21,\t23,\t91,\t7,\t15,\t11,\t9,\t7,\t8,\t51,\t11,\t41,\t0,\t13,\t0,\t\n",
        "        23,\t31,\t25,\t20,\t0,\t10,\t27,\t22,\t6,\t12,\t7,\t2,\t14,\t14,\t6,\t24,\t3,\t\n",
        "        25,\t1,\t0,\t14,\t0,\t10,\t8,\t1,\t1,\t11,\t6,\t5,\t12,\t10,\t4]\n",
        "\n",
        "Winprobability = [0.3360,\t0.2208,\t0.1029,\t0.0671,\t0.1117,\t0.2964,\t0.0504,\t0.0490,\n",
        "                   0.0409,\t0.0419,\t0.0409,\t0.0784,\t0.2563,\t0.0342,\t0.2547,\t0.0000,\n",
        "                   0.0528,\t0.0000,\t0.1127,\t0.1649,\t0.1445,\t0.1242,\t0.0000,\t0.0476,\n",
        "                   0.2700,\t0.1913,\t0.0333,\t0.0822,\t0.0745,\t0.0476,\t0.0791,\t0.0966,\n",
        "                   0.0234,\t0.4138,\t0.0130,\t0.3472,\t0.0103,\t0.0000,\t0.1102,\t0.0000,\n",
        "                   0.0893,\t0.0714,\t0.0040,\t0.0050,\t0.0671,\t0.0341,\t0.0382,\t0.1034,\t0.0813,\t0.0392]\n",
        "\n",
        "Points = [3431, 2985,\t1899,\t1854,\t1594.5,\t1566,\t1289,\t1235,\t1167,\t1047.5,\t1040,\t948,\t\n",
        "          798.5,\t658,\t614,\t580,\t535,\t511,\t485.5,\t482,\t420.5,\t420,\t389,\n",
        "          385,\t360,\t360,\t329,\t310,\t307,\t303,\t289,\t281,\t281,\t277.64,\t275,\n",
        "          274,\t274,\t267,\t261,\t259,\t255,\t248,\t246.5,\t241,\t235,\t228,\t212,\n",
        "          206,\t206,\t196.5]\n",
        "\n",
        "Champion = [1, 1, 1,\t1, 1, 1, 0, 1, 0, 0, 0, 0, 1, 0, 1, 0, 0, 0, 1, 1, 1, 1, 0,\n",
        "           0, 1, 1, 0, 0, 0, 0, 1, 1, 0, 1, 0, 1, 0, 0, 1, 0, 1, 1, 0, 0, 1, 0, 0, 1, 0, 0]\n",
        "\n",
        "df = pd.DataFrame( {\"Races\": Races, \"Driver\": Driver, \"Wins\": Wins, \"Winprobability\": Winprobability, \"Points\": Points, \"Champion\": Champion})\n",
        "print(df)"
      ],
      "metadata": {
        "colab": {
          "base_uri": "https://localhost:8080/"
        },
        "id": "DrtEmyOaKAGL",
        "outputId": "1c184522-59d7-4135-a57f-564f96902aa8"
      },
      "execution_count": null,
      "outputs": [
        {
          "output_type": "stream",
          "name": "stdout",
          "text": [
            "    Races                Driver  Wins  Winprobability   Points  Champion\n",
            "0     250        Lewis Hamilton    84          0.3360  3431.00         1\n",
            "1     240      Sebastian Vettel    53          0.2208  2985.00         1\n",
            "2     311       Fernando Alonso    32          0.1029  1899.00         1\n",
            "3     313        Kimi Räikkönen    21          0.0671  1854.00         1\n",
            "4     206          Nico Rosberg    23          0.1117  1594.50         1\n",
            "5     307    Michael Schumacher    91          0.2964  1566.00         1\n",
            "6     139       Valtteri Bottas     7          0.0504  1289.00         0\n",
            "7     306         Jenson Button    15          0.0490  1235.00         1\n",
            "8     269          Felipe Massa    11          0.0409  1167.00         0\n",
            "9     215           Mark Webber     9          0.0419  1047.50         0\n",
            "10    171      Daniel Ricciardo     7          0.0409  1040.00         0\n",
            "11    102        Max Verstappen     8          0.0784   948.00         0\n",
            "12    199           Alain Prost    51          0.2563   798.50         1\n",
            "13    322    Rubens Barrichello    11          0.0342   658.00         0\n",
            "14    161          Ayrton Senna    41          0.2547   614.00         1\n",
            "15    176          Sergio Pérez     0          0.0000   580.00         0\n",
            "16    246       David Coulthard    13          0.0528   535.00         0\n",
            "17     78       Nico Hülkenberg     0          0.0000   511.00         0\n",
            "18    204         Nelson Piquet    23          0.1127   485.50         1\n",
            "19    188         Nigel Mansell    31          0.1649   482.00         1\n",
            "20    173            Niki Lauda    25          0.1445   420.50         1\n",
            "21    161         Mika Häkkinen    20          0.1242   420.00         1\n",
            "22    164       Romain Grosjean     0          0.0000   389.00         0\n",
            "23    210        Gerhard Berger    10          0.0476   385.00         0\n",
            "24    100        Jackie Stewart    27          0.2700   360.00         1\n",
            "25    115            Damon Hill    22          0.1913   360.00         1\n",
            "26    180       Ralf Schumacher     6          0.0333   329.00         0\n",
            "27    146      Carlos Reutemann    12          0.0822   310.00         0\n",
            "28     94    Juan Pablo Montoya     7          0.0745   307.00         0\n",
            "29     42       Charles Leclerc     2          0.0476   303.00         0\n",
            "30    177           Graham Hill    14          0.0791   289.00         1\n",
            "31    145    Emerson Fittipaldi    14          0.0966   281.00         1\n",
            "32    256      Riccardo Patrese     6          0.0234   281.00         0\n",
            "33     58    Juan Manuel Fangio    24          0.4138   277.64         1\n",
            "34    230  Giancarlo Fisichella     3          0.0130   275.00         0\n",
            "35     72             Jim Clark    25          0.3472   274.00         1\n",
            "36     97         Robert Kubica     1          0.0103   274.00         0\n",
            "37    102      Carlos Sainz Jr.     0          0.0000   267.00         0\n",
            "38    127          Jack Brabham    14          0.1102   261.00         1\n",
            "39    183         Nick Heidfeld     0          0.0000   259.00         0\n",
            "40    112        Jody Scheckter    10          0.0893   255.00         1\n",
            "41    112           Denny Hulme     8          0.0714   248.00         1\n",
            "42    252          Jarno Trulli     1          0.0040   246.50         0\n",
            "43    201            Jean Alesi     1          0.0050   241.00         0\n",
            "44    164    Jacques Villeneuve    11          0.0671   235.00         1\n",
            "45    176       Jacques Laffite     6          0.0341   228.00         0\n",
            "46    131        Clay Regazzoni     5          0.0382   212.00         0\n",
            "47    116            Alan Jones    12          0.1034   206.00         1\n",
            "48    123       Ronnie Peterson    10          0.0813   206.00         0\n",
            "49    102         Bruce McLaren     4          0.0392   196.50         0\n"
          ]
        }
      ]
    },
    {
      "cell_type": "code",
      "source": [
        "Reg = ols(formula = \"Winprobability ~ Wins + Races\", data = df)\n",
        "Fit = Reg.fit()\n",
        "print(Fit.summary())"
      ],
      "metadata": {
        "colab": {
          "base_uri": "https://localhost:8080/"
        },
        "id": "Rx-tuwSsMweE",
        "outputId": "8842cb84-934e-4f01-bac8-29bda8eb19d4"
      },
      "execution_count": null,
      "outputs": [
        {
          "output_type": "stream",
          "name": "stdout",
          "text": [
            "                            OLS Regression Results                            \n",
            "==============================================================================\n",
            "Dep. Variable:         Winprobability   R-squared:                       0.773\n",
            "Model:                            OLS   Adj. R-squared:                  0.763\n",
            "Method:                 Least Squares   F-statistic:                     80.07\n",
            "Date:                Mon, 28 Nov 2022   Prob (F-statistic):           7.28e-16\n",
            "Time:                        07:57:55   Log-Likelihood:                 81.261\n",
            "No. Observations:                  50   AIC:                            -156.5\n",
            "Df Residuals:                      47   BIC:                            -150.8\n",
            "Df Model:                           2                                         \n",
            "Covariance Type:            nonrobust                                         \n",
            "==============================================================================\n",
            "                 coef    std err          t      P>|t|      [0.025      0.975]\n",
            "------------------------------------------------------------------------------\n",
            "Intercept      0.1217      0.018      6.583      0.000       0.084       0.159\n",
            "Wins           0.0049      0.000     12.581      0.000       0.004       0.006\n",
            "Races         -0.0006      0.000     -5.706      0.000      -0.001      -0.000\n",
            "==============================================================================\n",
            "Omnibus:                       38.347   Durbin-Watson:                   1.709\n",
            "Prob(Omnibus):                  0.000   Jarque-Bera (JB):              130.837\n",
            "Skew:                           2.005   Prob(JB):                     3.88e-29\n",
            "Kurtosis:                       9.836   Cond. No.                         503.\n",
            "==============================================================================\n",
            "\n",
            "Notes:\n",
            "[1] Standard Errors assume that the covariance matrix of the errors is correctly specified.\n"
          ]
        }
      ]
    },
    {
      "cell_type": "markdown",
      "source": [
        "![image.png](data:image/png;base64,iVBORw0KGgoAAAANSUhEUgAAAu8AAAHECAYAAACJAMQ5AAAAAXNSR0IArs4c6QAAAARnQU1BAACxjwv8YQUAAAAJcEhZcwAAFxEAABcRAcom8z8AAFjVSURBVHhe7b2NdyTVmae5fxwq7J2vtQdjqylPy9PqbrpHeIYqoBEeoM00bWxttcF9zNC2p3GPjqdsC7A94B2z5sNAJR/iw+AyqLFYt8eYweIAZwtstnSqOLF6U/FKN0MRv4j8iryR93nOeU9BZEbq5qM3pV9c3Yj431599dUv7FVGURRFURRFUVS89Ytf/OJuC++lD1IURVEURVEUFVcdhHcAAAAAAIgTwjsAAAAAQEcgvAMAAAAAdATCOwAAAABARyC8AwAAAAB0BMI7AAAAAEBHILwDAAAAAHQEwjsAAAAAQEcgvAMAAAAAdATCOwAAAABARyC8AwAAAAB0BMI7AAAAAEBHILwDAAAAAHQEwjsAAAAAQEcgvAMAAAAAdATCOwAAAABARyC8AwAAAAB0BMI7AAAAAEBHILwDAAAAAHQEwjsAAAAAQEcgvAMAAAAAdATCOwAAAABARyC8AwAAAAB0BMI7AMCcc/HixWxtbS1bXFzMNjY28q3TZVpfcxbvBQAgJgjvAABzDuEdAGB+ILwDwEzZ2dnJlpeXG4WxRx99tP+848ePZ9vb2/nWcvy5q6ur2fnz5/vbLPjdfffd2U033ZQ98MAD/W0p0LXwrr5P6nVT/f4CQFoQ3gFgpoRh7NSpU/nWo4TPqwuEVa8ZHiiEoX7eUYF3WozzNdX3Sb1uqt9fAEgLwjsAzByfJV9aWsrOnTuXbx1kd3c3W1lZ6T+vLpyFz+31evnW/e0e/L7zne/kW+efroV39X1Sr1v3/d3a2uo/pvoMACB2CO8AMHM8VFmFYTskfE5dAPPnNllekwJdC++KcV6X8A4A8wDhHQBmTjhTXhXIfHb+K1/5Sumsesj6+nr/cZZO7EN434fwDgDzAOEdAKJABe4wsD3++OMH/122Rl6Fu6aP2UGB/f/p06cP1lBbffWrX81ef/31fI9DfF+f6bf///GPfzyw7y233JJtbm7mexxS/Lpvv/12/7m+X1lA/fnPf5594QtfOHiO1cmTJ7O77rore+utt/JnHRJ+DXu9qvGVvTfDnv/www9Xfs2yA6RxvmZx35BRHvMDv6rynmuyfCv8GuocDQCAaUF4B4AoUEtdfGbeQ1XZlWQcP2mx7HWaBr/77rtvIGSGpV7XHnv66acHwnexhv26YUC059rVVMLHi2VjKP5FIvwadgCixlfcN/yriJW9vl3NJRzndddddyTsjvM1w30nEd5ffPHFI2O2Aw/bZmUHIEZ4wmtxTE6T5wAATBPCOwBEgQpFHuw9rKuAroJ90+BnZa/9gx/84OA1LAD6+IozrnX72my6B+DimMv2tb8u+GPhTLr/dcKqOONts/E+vuLM8Tjjs/B+9dVXDzzfCb9nw/ps6mQS4d2pWzYT7l/WP0aT2XkAgGlCeAeAKAiDUzEce2j1QKbWyPtzx1lSUwyTTlVwa7JvVdAN97VqMuNbFkyNJl9j2PHVUeV7Uk6KYxn1MaPJmnf1F6C61wcAaAPCOwBEQ1k4DgNTGGzLQmMY6stC8DjBz6gKdk32DZ8TjrnJvkbTGV/3Es4cjzO+Oqr+0jEtJ6M+ZjQJ7+rA0A82qg5GAADagPAOANFQFo58WzFwlQWxquc64wQ/oyq8NdnXGDVYG2X7llF3ADTq17DXsKU5X//61w/WiofryEcJ78awTkZ9zGgS3o0qD1UHKgAAbUJ4B4BoKJv19MBVnA0um2X3cFU1czxO8DPGDe9l4a/pvh4o62bFxwnvVeE0XO9fVcV9puVk1MeMpuG97Ptc91cdAIC2ILwDQFQUZz39/+uCWpOwOE7wM1KceffAa2VXjSleirIq8E/LyaiPGU3De/g6frDUdF8AgGlDeAeAqAhD0rvvvtsPUcWw7ITB8b333uvPjFY91xgn+BnjhPeyQGg02dcoC+VljHqAUDW+uoOGccL7KE5GfcwYJoAXfbuHur98AABMG8I7AERFuDzBr3teFbbCMH3//ff396kKmcY4wc9oEt6rDh7CGexw2UWTr2uE+9eNr/icccZXF1qrwv20nIz6mOFfr2o8IWEfWpBnyQwAxALhHQCiwwOhV1VwDAOWV1WwNcYJfkaT8G5ljz/wwAMHYbbpNdibjt3qO9/5zkBYDtelqyBtNcz4fAa67D2HN4ya5NdUTkZ9zCg7uLF93nzzzf5/Fyn2oTowBABoC8I7AESHB0YvFWrDgFUMmEXGCX5Gk/D+la985SAgFqtsfE2+rmMHK+pOpVbqbqf29W3meJjxFQ+Q7M6kN9xww8H/2xVn7N+q8D7K11RORn3MCB8PqyqUh38ZsKr7/gAAtAHhHQCiI5whLQt3IWHAshBWtrzGGSf4GU3Cu+1r/x/OStvz7WTP119/Pd/jkCZfN8Se77f799e3sv+3O7OWhVD/Gj5uu7tp0/EZtv/p06cHArgdRGxubh74V+F92K+pnIz6mGPPKY7D/iJQRvh6/j4AAGYN4R0AYEyahEboJlVr+gEAZgXhHQBgTAjv80m4ZIgTVQEgFgjvAABjQnifT4qXiwQAiAHCOwDAmBDe54/we8q13QEgJgjvAABjQnifP8KTk1kyAwAxQXgHAAAAAOgIhHcAAAAAgI5AeAcAAAAA6AiEdwAAAACAjkB4BwAAAADoCIR3AAAAAICOQHgHAAAAAOgIhHcAAAAAgI5AeAcAAAAA6AiEdwAAAACAjkB4BwAAAADoCIR3AAAAAICOQHgHAAAAAOgIhHcAAAAAgI5AeAcAAAAA6AiEdwAAAACAjkB4BwAAAADoCIR3AAAAAICOQHgHAAAAAOgIhHcAAAAAgI5AeAcAAAAA6AiEdwAAAACAjjCx8L67u5utrKxki4uLB9Xr9fJH67l48WK2trbW3+/UqVP51n22trYGXtdraWkpO3fuXP4sAAAAAID5ZiLhfWdnJ1teXs42NjbyLVn26KOP9gN20wBvzz9+/Hh2ww03lIZ3e2x7ezvfAgAAAACQHhMJ7+vr69nq6mp2/vz5fMvhTHpxexk+a//444/39yG8AwAAAAAcZezw7sE7nHV3fDa9LnR7+P/9739PeAcAAAAAqGDs8O5LZsqWx/hadbV0xva/8sor+8HcZ+sJ7wAAAAAARxk7vKuAXhfei2FdhXd7nbCmEebdAUVRFEVRFEVZxYaPaybh3R4PrxhTFd7LsKU26rWHxZb4WLkHiqIoiqIoirKKCR9T68tmytbKDxPeff8mz22Ch3coZ9T+SAX8aPCjwY8GPxr8aPCjwY8mRj8+prHD+7AnrJYthSmWmlX3oN/kajZNILxrRu2PVMCPBj8a/Gjwo8GPBj8a/Ghi9ONjGjm8V4XoUcI1M+/xMmp/pAJ+NPjR4EeDHw1+NPjR4EcTox8f08jh3fBZ9OJNmoqz7rZNzaiXhXffFu7j2yZ5h1XCu2ac/kgB/Gjwo8GPBj8a/Gjwo8GPJkY/PqaxwrtRXAZTtlxmlPBulC2xmdRyGYfwrhm3P+Yd/Gjwo8GPBj8a/Gjwo8GPJkY/Pqaxw3vXIbxrUu+POvCjwY8GPxr8aPCjwY8GP5oY/fiYCO+Ed0nq/VEHfjT40eBHgx8NfjT40eBHE6MfHxPhnfAuSb0/6sCPBj8a/Gjwo8GPBj8a/Ghi9ONjIrwT3iWp90cd+NHgR4MfDX40+NHgR4MfTYx+fEyEd8K7JPX+qAM/Gvxo8KPBjwY/Gvxo8KOJ0Y+PifBOeJek3h914EeDHw1+NPjR4EeDHw1+NDH68TER3gnvktT7ow78aPCjwY8GPxr8aPCjwY8mRj8+JsI74V2Sen/UgR8NfjT40eBHgx8NfjT40cTox8dEeCe8S1Lvjzrwo8GPBj8a/Gjwo8GPBj+aGP34mAjvhHdJ6v1RB340+NHgR4MfDX40+NHgRxOjHx8T4Z3wLkm9P+rAjwY/Gvxo8KPBjwY/GvxoYvTjYyK8E94lqfdHHfjR4EeDHw1+NPjR4EeDH02MfnxMhHfCuyT1/qgDPxr8aPCjwY8GPxr8aPCjidGPj4nwTniXpN4fdeBHgx8NfjT40eBHgx8NfjQx+vExEd4J75Ku9cc77+1mj7zwVvaNH/4qu/P7v8we3NzJfvvO+fzRyZP656cO/Gjwo8GPBj8a/Gjwo4nRj4+J8E54l3SpPza33s0+cdNmdsmJMwP10euezE4/9Hr+rMmS+uenDvxo8KPBjwY/Gvxo8KOJ0Y+PifBOeJd0pT8suFtQP3ayt/fvEwPhfeEa23amPxs/aVL//NSBHw1+NPjR4EeDHw1+NDH68TER3gnvki70hy2VuezGZ/LgPjjrXqzXfvO7fK/JkPrnpw78aPCjwY8GPxr8aPCjidGPj4nwTniXdKE/7u+9WRrUy8rWwU+S1D8/deBHgx8NfjT40eBHgx9NjH58TIR3wrukC/1x+z2vlQb1Yh27ppdddcdL+V6TIfXPTx340eBHgx8NfjT40eBHE6MfHxPhnfAu6UJ/3Lr+arZQEtaLtXCyl33mtufzvSZD6p+fOvCjwY8GPxr8aPCjwY8mRj8+JsI74V3Shf6497E3SsN6sWxNvAX9SZL656cO/Gjwo8GPBj8a/Gjwo4nRj4+J8E54l3ShP+wk1H5AP3k0sB/U1fv/njn7dr7XZEj981MHfjT40eBHgx8NfjT40cTox8dEeCe8S7rSH3YZSAvnCydKrjizF9yP7QX71a+9nD97cqT++akDPxr8aPCjwY8GPxr8aGL042NqLbzv7u5mKysr2eLi4kH1er380XouXryYra2t9fc7depUvnV8CO+atvpjXHYvfJitnd4+DOw2C79Xl+bXeLfg/v4HF/JnT46u+JkV+NHgR4MfDX40+NHgRxOjHx9TK+F9Z2cnW15ezjY2NvIt+6F5mABvzz9+/Hh2ww03EN5bpI3+mCR2syZb124npl5+82Y/tD/ywlv5o5Ona37aBj8a/Gjwo8GPBj8a/Ghi9ONjaiW8r6+vZ6urq9n58+fzLYcz6cXtZfis/eOPP97fh/DeHm30R5fBjwY/Gvxo8KPBjwY/GvxoYvTjY5p6ePfgHc66Oz6bvr29nW8px8P/73//e8J7y0y7P7oOfjT40eBHgx8NfjT40eBHE6MfH9PUw7svmSlbHrO1tVW7dMb2v/LKK/sB32frCe/tMe3+6Dr40eBHgx8NfjT40eBHgx9NjH58TFMP7yqg14X3YlifZnh3DxRFURRFURRlFRM+pqjDuz2+tLSUnTt3rv//hHeKoiiKoiiqrYoJH1O0y2bK1sqzbKZ9pt0fXQc/Gvxo8KPBjwY/Gvxo8KOJ0Y+PqbXwPuwJqx7sVVXN2A8D4V0z7f7oOvjR4EeDHw1+NPjR4EeDH02MfnxMUw/vPls+zqUiHWbe22fa/dF18KPBjwY/Gvxo8KPBjwY/mhj9+JimHt4Nn0Uv3qSpOOtu29SMOuG9fdrojy6DHw1+NPjR4EeDHw1+NPjRxOjHx9RKeDeKy2DKlssQ3uOjrf7oKvjR4EeDHw1+NPjR4EeDH02MfnxMrYX3WCG8a1Lvjzrwo8GPBj8a/Gjwo8GPBj+aGP34mAjvhHdJ6v1RB340+NHgR4MfDX40+NHgRxOjHx8T4Z3wLkm9P+rAjwY/Gvxo8KPBjwY/GvxoYvTjYyK8E94lqfdHHfjR4EeDHw1+NPjR4EeDH02MfnxMhHfCuyT1/qgDPxr8aPCjwY8GPxr8aPCjidGPj4nwTniXpN4fdeBHgx8NfjT40eBHgx8NfjQx+vExEd4J75LU+6MO/Gjwo8GPBj8a/Gjwo8GPJkY/PibCO+Fdknp/1IEfDX40+NHgR4MfDX40+NHE6MfHRHgnvEtS74868KPBjwY/Gvxo8KPBjwY/mhj9+JgI74R3Ser9UQd+NPjR4EeDHw1+NPjR4EcTox8fE+Gd8C5JvT/qwI8GPxr8aPCjwY8GPxr8aGL042MivBPeJan3Rx340eBHgx8NfjT40eBHgx9NjH58TIR3wrsk9f6oAz8a/Gjwo8GPBj8a/Gjwo4nRj4+J8E54l6TeH3XgR4MfDX40+NHgR4MfDX40MfrxMRHeCe+S1PujDvxo8KPBjwY/Gvxo8KPBjyZGPz4mwjvhXZJ6f9SBHw1+NPjR4EeDHw1+NPjRxOjHx0R4J7xLUu+POvCjwY8GPxr8aPCjwY8GP5oY/fiYCO+Ed0nq/VEHfjT40eBHgx8NfjT40eBHE6MfHxPhnfAuSb0/6sCPBj8a/Gjwo8GPBj8a/Ghi9ONjIrwT3iWp90cd+NHgR4MfDX40+NHgR4MfTYx+fEyEd8K7JPX+qAM/Gvxo8KPBjwY/Gvxo8KOJ0Y+PifBOeJek3h914EeDHw1+NPjR4EeDHw1+NDH68TER3gnvktT7ow78aPCjwY8GPxr8aPCjwY8mRj8+JsI74V2Sen/UgR8NfjT40eBHgx8NfjT40cTox8c0dnjf3d3NVlZWssXFxYPq9Xr5o+VcvHgxW1tbG9hnaWkpO3fuXP6Mfba2tgaeo547KoR3zbj9Me/gR4MfDX40+NHgR4MfDX40MfrxMY0V3nd2drLl5eVsY2Mj37Ifhi1gqwC/vr4+sI8fABRDuYX348ePZ9vb2/mWyUN414zTHymAHw1+NPjR4EeDHw1+NPjRxOjHxzRWeLcQvrq6mp0/fz7fcjirXtxehwXoYlAnvM+ecfpjXnjnvd3skRfeyr7xw19ld37/l9mDmzvZb9/Z7238aPCjwY8GPxr8aPCjwY8mRj8+ppHDu8+WhzPoTlkQr4PwHiej9se8sLn1bvaJmzazS06cGaiPXvdkdvqh15P3Uwd+NPjR4EeDHw1+NPjRxOjHxzRyePclM2XLY3ytet3ad8efXzwQILzPnlH7Yx6w4G5B/djJ3t6/TwyE94VrbNuZ7EvrLyTrpwkp908T8KPBjwY/Gvxo8KOJ0Y+PaeTwrgJ6XXgvO2G1bAbfXyesSYd5D+/ugaKsnn1xK/vYDU/mwX1w1r1YD/deLn0NiqIoiqK6XTHhY5pJeC/iS3CaBHNbZz/Ma9dBeKfK6hv3vVga1Mvq1rufL30NiqIoiqK6XTHhY4pi2YzhAf7UqVP5lnKaPq8pHt6hnFH7o+vcfs9rpUG9WMeu6WV//MVn8r2gSKr90xT8aPCjwY8GPxr8aGL042MaO7xP6oTVplepGfVqNlUQ3jWj9kfXuXX91WyhJKwXa+FkL7vilqfyvaBIqv3TFPxo8KPBjwY/GvxoYvTjYxo5vFeF6FHDNTPvcTJqf3Sdex97ozSsF8vWxF9/53P5XlAk1f5pCn40+NHgR4MfDX40MfrxMY0c3g1fHhPOvpfNuts2X0bj4TtcUuOBP9zPt5U9jzustsc4/dFlXvvN7/YD+smjgf2grt7/97sP/izfC4qk2j9NwY8GP5ou+1H3z5gU9I8GP5oY/fiYxgrvRvGKMGXLZcLwbhT3sSqbqW/6vHEgvGvG7Y8uY79ULJwvnCi54sxecD+2F+w/++XNZP00IeX+aQJ+NPjRdNVP3f0zJgX9o8GPJkY/Pqaxw3vXIbxrUu6P3QsfZmuntw9/udgs/F5dml/jffVrL2c//dlW0p+fOlL/+VIHfjT40XTRT5P7Z9jEySSgfzT40cTox8dEeCe8S1LvD8N+2dgJrJ+57fns8ps3+6Hd/txr4EeDHw1+NPjRdM2PLZW57MZnGt0/w5Yujgv9o8GPJkY/PibCO+Fdknp/1IEfDX40+NHgR9M1P/f33iwN6mVl6+DHhf7R4EcTox8fE+Gd8C5JvT/qwI8GPxr8aPCj6ZqfYe6fcdUdL+V7jQ79o8GPJkY/PibCO+Fdknp/1IEfDX40+NHgR9M1P8PcP8OWKY4L/aPBjyZGPz4mwjvhXZJ6f9SBHw1+NPjR4EfTNT/D3D/Dgv640D8a/Ghi9ONjIrwT3iWp90cd+NHgR4MfDX40XfMzzP0zzpx9O99rdOgfDX40MfrxMRHeCe+S1PujDvxo8KPBjwY/mi76aXL/DLui1ySgfzT40cTox8dEeCe8S1Lvjzrwo8GPBj8a/Gi66KfJ/TPe/+BC/uzxoH80+NHE6MfHRHgnvEtS74868KPBjwY/GvxouuxH3T9jUtA/GvxoYvTjYyK8E94lqfdHHfjR4EeDHw1+NPjR4EeDH02MfnxMhHfCuyT1/qgDPxr8aPCjwY8GPxr8aPCjidGPj4nwTniXpN4fdeBHgx8NfjT40eBHgx8NfjQx+vExEd4J75LU+6MO/Gjwo8GPBj8a/Gjwo8GPJkY/PibCO+Fdknp/1IEfDX40+NHgR4MfDX40+NHE6MfHRHgnvEtS74868KPBjwY/Gvxo8KPBjwY/mhj9+JgI74R3Ser9UQd+NPjR4EeDHw1+NPjR4EcTox8fE+Gd8C5JvT/qwI8GPxr8aPCjwY8GPxr8aGL042MivBPeJan3Rx340eBHgx8NfjT40eBHgx9NjH58TIR3wrsk9f6oAz8a/Gjwo8GPBj8a/Gjwo4nRj4+J8E54l6TeH3XgR4MfDX40+NHgR4MfDX40MfrxMRHeCe+S1PujDvxo8KPBjwY/Gvxo8KPBjyZGPz4mwjvhXZJ6f9SBHw1+NPjR4EeDHw1+NPjRxOjHx0R4J7xLUu+POvCjwY8GPxr8aPCjwY8GP5oY/fiYWgvvu7u72crKSra4uHhQvV4vf7ScixcvZmtrawP7LC0tZefOncufMT6Ed01b/dFV8KPBjwY/Gvxo8KPBjwY/mhj9+JhaCe87OzvZ8vJytrGxkW/ZD811AX59fX1gHz8AmGSAJ7xr2uiPLoMfDX40+NHgR4MfDX40+NHE6MfH1Ep4txC+urqanT9/Pt9yOKte3F6HBe3jx49n29vb+ZbxILxr2uiPLoMfDX40+NHgR4MfDX40+NHE6MfHNPXw7rPl4Qy6M0oQJ7y3y7T7o+vgR4MfDX40+NHgR4OfQ955bzd75IW3sm/88FfZnd//Zfbg5k721HNb+BHE2D8+pqmHd18yU7Y8Zmtrq9Had8efX3YgMCqEd820+6Pr4EeDHw1+NPjR4EeDn302t97NPnHTZnbJiTMD9ZFre9nffvun+bOgSIz942OaenhXAb0uvJedsDrJ4G54eHcPFEVRFEVR81Dfe+hsP6gfO9nb+/eJgfC+cI1tO5N9af2F0n2p/YoJH1PU4b2IL8GZxrIZ90BRFEVRFNX1evbFrexjNzyZB/fBWfdiPdx7ufQ1qETD+ySXzRge4E+dOpVvGQ8P71DOtPuj6+BHgx8NfjT40eBHk7qf+3tvlgb1srJ18DBIjP3jY2otvE/qhNVRr1JTBeFdM+3+6Dr40eBHgx8NfjT40aTu5/Z7XisN6sU6dk0vu+qOl/K9wImxf3xMUw/vVWF71BDOzHu7TLs/ug5+NPjR4EeDHw1+NKn7uXX91WyhJKwXa+FkL/vMbc/ne4ETY//4mKYe3g1fHhPOvpfNuts2X0bjIT1cUuOBn0tFtkcb/dFl8KPBjwY/Gvxo8KNJ3c+9j71RGtaLZWviLejDIDH2j4+plfBueID3KgvgYXg3ivtYTWq5jEN417TVH10FPxr8aPCjwY8GP5rU/bz2m9/tB/STRwP7QV29/++Zs2/ne4ETY//4mFoL77FCeNek3h914EeDHw1+NPjR4EeDn6x/UyYL5wsnSq44sxfcj+0F+9WvvZw/G0Ji7B8fE+Gd8C5JvT/qwI8GPxr8aPCjwY8GP1m2e+HDbO309mFgt1n4vbo0v8b7Z7+8mb3/wYX82RASY//4mAjvhHdJ6v1RB340+NHgR4MfDX40+DnE7rJq69rtxNTLb97sz7Z/64cv4UcQY//4mAjvhHdJ6v1RB340+NHgR4MfDX40+NHgRxOjHx8T4Z3wLkm9P+rAjwY/Gvxo8KPBjwY/GvxoYvTjYyK8E94lqfdHHfjR4EeDHw1+NPjR4EeDH02MfnxMhHfCuyT1/qgDPxr8aPCjwY8GPxr8aPCjidGPj4nwTniXpN4fdeBHgx8NfjT40eBHgx8NfjQx+vExEd4J75LU+6MO/Gjwo8GPBj8a/Gjwo8GPJkY/PibCO+Fdknp/1IEfDX40+NHgR4MfDX40+NHE6MfHRHgnvEtS7486YvTzznu72SMvvNW/s96d3/9l9uDmTvbbd87nj7YL/aPBjwY/Gvxo8KPBjyZGPz4mwjvhXZJ6f9QRmx+7Eccnbto8vJteXh+97sns9EOv589qD/pHgx8NfjT40eBHgx9NjH58TIR3wrsk9f6oIyY/FtwtqB87abe9fmIgvC/kt8K22fg2oX80+NHgR4MfDX40+NHE6MfHRHgnvEtS7486YvFjS2Uuu/GZPLgPzroX67Xf/C7fa/rQPxr8aPCjwY8GPxr8aGL042MivBPeJan3Rx2x+Lm/92ZpUC8rWwffFvSPBj8a/Gjwo8GPBj+aGP34mAjvhHdJ6v1RRyx+br/ntdKgXqxj1/Syq+54Kd9r+tA/Gvxo8KPBjwY/GvxoYvTjYyK8E94lqfdHHbH4uXX91WyhJKwXa+FkL/vMbc/ne00f+keDHw1+NPjR4EeDH02MfnxMhHfCuyT1/qgjFj/3PvZGaVgvlq2Jt6DfFvSPBj8a/Gjwo8GPBj+aGP34mAjvhHdJ6v1RRyx+7CTUfkA/eTSwH9TV+/+eOft2vtf0oX80+NHgR4MfDX40+NHE6MfHRHgnvEtS7486YvJjl4G0cL5wouSKM3vB/dhesF/92sv5s9uB/tHgR4MfDX40+NHgRxOjHx8T4Z3wLkm9P+qIyc/uhQ+ztdPbh4HdZuH36tL8Gu8W3N//4EL+7HagfzT4KcfvEvyl9ReyW+9+fqZ3CY4Z+keDHw1+NDH68TER3gnvktT7o44Y/djNmmxdu52YevnNm/3QbkFoFtA/GnPz7Itb/e+P/eXELuOZelCN7S7BMcPnS4MfDX40MfrxMRHeCe+S1PujDvxo8KP53kNns49/7imCak6MdwmOGT5fGvxo8KOJ0Y+PifBOeJek3h914EeDn2oIqoPEepfgmOHzpcGPBj+aGP34mMYO77u7u9nKykq2uLh4UL1eL3+0nIsXL2Zra2sD+5w6dSp/9JCtra2B53gtLS1l586dy581HoR3zbj9Me/gR4OfcgiqR4n1LsExw+dLgx8NfjQx+vExjRXed3Z2suXl5WxjYyPfsh+GLWCrAL++vj4Q1j2kFwO8bT9+/Hi2vb2db5k8hHfNOP2RAvjR4KccgupRYr1LcMzw+dLgR4MfTYx+fExjhXcL4aurq9n584cnV/msenF7HfZaxRl1wvvsGac/UgA/GvyUQ1A9Sqx3CY4ZPl8a/Gjwo4nRj49p5PDuy2XCWXfHwvCwodv2IbzHx6j9kQr40eCnHILqUWK9S3DM8PnS4EeDH02MfnxMI4d3XzJTtjzGl8HUrX0PYeY9Tkbtj1TAjwY/5RBUjxLrXYJjhs+XBj8a/Ghi9ONjGjm8q4A+bHgvWztv+OuENekw7+HdPVAURU27Hu69vB9GGwTV7z74s9LXmMeymzLZe1Z3Cf7slzdL96UoippGxYSPaebh3dfIN72CjM3QN33tJhDeKYqaRRFUj9bPX/nH7Ma/e/7Qgx3c7JXfJdh8/PRnW6X7UhRFTaNiwsc082UzFsaHmU33tfZll5YcBQ/vUM6o/ZEK+NHgp5rdCx/KoGp3xn3/gwv5s9PC7xJ8xS1PZR//3JMzvUtwzPD50uBHgx9NjH58TGOH93FOWLXnDTuLPurVbKogvGtG7Y9UwI8GPxpzY3dZtaBqJ6ZefvMmQTWA/tHgR4MfDX40MfrxMY0c3qtCdNNw7cG9LPwrmHlvl1H7IxXwo8GPBj8a/Gjwo8GPBj+aGP34mEYO74YvjynepKk46+5B3WfYy/Yr4gcB4az8sOvjm0B414zTHymAHw1+NPjR4EeDHw1+NPjRxOjHxzRWeDc8iHuVLZcJw7sH8HCfsMruvBrWpJbLOIR3zbj9Me/gR4MfDX40+NHgR4MfDX40MfrxMY0d3rsO4V2Ten/UgR8NfjT40eBHgx8NfjT40cTox8dEeCe8S1Lvjzrwo8GPBj8a/Gjwo8GPBj+aGP34mAjvhHdJ6v1RB340+NHgR4MfDX40+NHgRxOjHx8T4Z3wLkm9P+rAjwY/Gvxo8KPBjwY/GvxoYvTjYyK8E94lqfdHHfjR4EeDHw1+NPjR4EeDH02MfnxMhHfCuyT1/qgDPxr8aPCjwY8GPxr8aPCjidGPj4nwTniXpN4fdeBHgx8NfjT40eBHgx8NfjQx+vExEd4J75LU+6MO/Gjwo8GPBj8a/Gjwo8GPJkY/PibCO+Fdknp/1IEfDX40+NHgR4MfDX40+NHE6MfHRHgnvEtS74868KPBjwY/mtT8vPPebvbIC29l3/jhr7I7v//L7MHNney371TfUZz+0eBHgx9NjH58TIR3wrsk9f6oAz8a/Gjwo0nJz+bWu9knbtrMLjlxZqA+et2T2emHXs+fNQj9o8GPBj+aGP34mAjvhHdJ6v1RB340+NHgR5OKHwvuFtSPnezt/fvEQHhfuMa2nenPxhehfzT40eBHE6MfHxPhnfAuSb0/6sCPBj8a/GhS8GNLZS678Zk8uA/Ouhfrtd/8Lt9rH/pHgx8NfjQx+vExEd4J75LU+6MO/Gjwo8GPJgU/9/feLA3qZWXr4EPoHw1+NPjRxOjHx0R4J7xLUu+POvCjwY8GP5oU/Nx+z2ulQb1Yx67pZVfd8VK+1z70jwY/GvxoYvTjYyK8E94lqfdHHfjR4EeDH00Kfm5dfzVbKAnrxVo42cs+c9vz+V770D8a/Gjwo4nRj4+J8E54l6TeH3XgR4MfDX40Kfi597E3SsN6sWxNvAX9EPpHgx8NfjQx+vExEd4J75LU+6MO/Gjwo8GPJgU/dhJqP6CfPBrYD+rq/X/PnH0732sf+keDHw1+NDH68TER3gnvktT7ow78aPCjwY8mFT92GUgL5wsnSq44sxfcj+0F+9WvvZw/+xD6R4MfDX40MfrxMRHeCe+S1PujDvxo8KPBjyYVP7sXPszWTm8fBnabhd+rS/NrvFtwf/+DC/mzD6F/NPjR4EcTox8fE+Gd8C5JvT/qwI8GPxr8aFLzYzdrsnXtdmLq5Tdv9kP7Iy+8lT96FPpHgx8NfjQx+vExEd4J75LU+6MO/Gjwo8GPBj8a/Gjwo8GPJkY/PibCO+Fdknp/1IEfDX40+NHgR4MfDX40+NHE6MfHRHgnvEtS74868KPBjwY/Gvxo8KPBjwY/mhj9+JhaC++7u7vZyspKtri4eFC9Xi9/tJyLFy9ma2trA/ucOnUqf3QyEN41bfVHV8GPBj8a/Gjwo8GPBj8a/Ghi9ONjaiW87+zsZMvLy9nGxka+ZT801wX49fX1gbC+tbU18QBPeNe00R9dBj8a/Gjwo8GPBj8a/Gjwo4nRj4+plfBuIXx1dTU7f/58vuVwVr24vQ57raWlpezcuXP5lvEgvGva6I8ugx8NfjT40eBHgx8NfjT40cTox8c09fDuy2XCWXfHQvPx48ez7e3tfEs9tg/hvT2m3R9dBz8a/Gjwo8GPBj8a/Gjwo4nRj49p6uHdl8yULY/xZTB1a99DmHlvl2n3R9fBjwY/Gvxo8KPBjwY/GvxoYvTjY5p6eFcBfdjwXrZ2flw8vLsHiqIoiqIoirKKCR9TZ8K7r5Gf5Ky7QXinKIqiKIqiyiomfEydWTZjy2WGXR/fBA/vUM60+6PrzJOfd97b7d+K/Rs//FV25/d/mT24uZP99p3mJ5OXQf9o8KPBjwY/Gvxo8KOJ0Y+PqbXwPs4Jq/a8YZbXDAPhXTPt/ug68+Jnc+vd7BM3bWaXnDgzUB+97sns9EOv588aHvpHgx8NfjT40eBHgx9NjH58TFMP71WXhGx6qUgP7pNc5x5CeNdMuz+6zjz4seBuQf3Yyd7ev08MhPeFa2zbmf5s/CjQPxr8aPCjwY8GPxr8aGL042Oaeng3fHlM8SZNxVl3D+o+w16236QhvGva6I8u03U/tlTmshufyYP74Kx7sV77ze/yvZpD/2jwo8GPBj8a/Gjwo4nRj4+plfBueBD3KlsuE4Z3n5kP9wlrUndZJbxr2uqPrtJ1P/f33iwN6mVl6+CHhf7R4EeDHw1+NPjR4EcTox8fU2vhPVYI75rU+6OOrvu5/Z7XSoN6sY5d08uuuuOlfK/m0D8a/Gjwo8GPBj8a/Ghi9ONjIrwT3iWp90cdXfdz6/qr2UJJWC/Wwsle9pnbns/3ag79o8GPBj8a/Gjwo8GPJkY/PibCO+Fdknp/1NF1P/c+9kZpWC+WrYm3oD8s9I8GPxr8aPCjwY8GP5oY/fiYCO+Ed0nq/VFH1/3YSaj9gH7yaGA/qKv3/z1z9u18r+bQPxr8aPCjwY8GPxr8aGL042MivBPeJan3Rx3z4McuA2nhfOFEyRVn9oL7sb1gv/q1l/NnDwf9o8GPBj8a/Gjwo8GPJkY/PibCO+Fdknp/1DEPfnYvfJitnd4+DOw2C79Xl+bXeLfg/v4HF/JnDwf9o8GPBj8a/Gjwo8GPJkY/PibCO+Fdknp/1DFPfuxmTbau3U5MvfzmzX5of+SFt/JHR4P+0eBHgx8NfjT40eBHE6MfHxPhnfAuSb0/6sCPBj8a/Gjwo8GPBj8a/Ghi9ONjIrwT3iWp90cd+NHgR4MfDX40+NHgR4MfTYx+fEyEd8K7JPX+qAM/Gvxo8KPBjwY/Gvxo8KOJ0Y+PifBOeJek3h914EeDHw1+NPjR4EeDHw1+NDH68TER3gnvktT7ow78aPCjwY8GPxr8aPCjwY8mRj8+JsI74V2Sen/UgR8NfjT40eBHgx8NfjT40cTox8dEeCe8S1Lvjzrwo8GPBj8a/Gjwo8GPBj+aGP34mAjvhHdJ6v1RB340+NG04eed93b71+u3O+ne+f1fZg9u7mS/fed8/mjc0D8a/Gjwo8GPJkY/PibCO+Fdknp/1IEfDX400/ZjN976xE2bh3fPzeuj1z2ZnX7o9fxZ8UL/aPCjwY8GP5oY/fiYCO+Ed0nq/VEHfjT40UzTjwV3C+rHTvb2/n1iILwvXGPbzvRn42OG/tHgR4MfDX40MfrxMRHeCe+S1PujDvxo8KOZlh9bKnPZjc/kwX1w1r1Yr/3md/le8UH/aPCjwY8GP5oY/fiYCO+Ed0nq/VEHfjT40UzLz/29N0uDelnZOvhYoX80+NHgR4MfTYx+fEyEd8K7JPX+qAM/GvxopuXn9nteKw3qxTp2TS+76o6X8r3ig/7R4EeDHw1+NDH68TER3gnvktT7ow78aPCjmZafW9dfzRZKwnqxFk72ss/c9ny+V3zQPxr8aPCjwY8mRj8+JsI74V2Sen/UgR8NfjTT8nPvY2+UhvVi2Zp4C/qxQv9o8KPBjwY/mhj9+JgI74R3Ser9UQd+NPjRTMuPnYTaD+gnjwb2g7p6/98zZ9/O94oP+keDHw1+NPjRxOjHx0R4J7xLUu+POvCjwY9mmn7sMpAWzhdOlFxxZi+4H9sL9qtfezl/dpzQPxr8aPCjwY8mRj8+prHD++7ubrayspItLi4eVK/Xyx/VXLx4MVtbW6vcZ2tra+B1vZaWlrJz587lzxoPwrtm3P6Yd/CjwY9mmn52L3yYrZ3ePgzsNgu/V5fm13i34P7+BxfyZ8cJ/aPBjwY/GvxoYvTjYxorvO/s7GTLy8vZxsZGvmU/DFvArgvwxWBeFd6PHz+ebW9v51smD+FdM05/pAB+NPjRtOHHbtZk69rtxNTLb97sh/ZHXngrfzRu6B8NfjT40eBHE6MfH9NY4X19fT1bXV3Nzp8/n285nE0vbg8JQ7+HeMJ7nIzTHymAHw1+NPjR4EeDHw1+NPjRxOjHxzRyePflMuGsu2NhuGnoJrzHzaj9kQr40eBHgx8NfjT40eBHgx9NjH58TCOHd589V2vV65bOGIT3uBm1P1IBPxr8HPLOe7v95Sp2Iqnd1fTBzZ3sqee28COgfzT40eBHgx9NjH58TCOH97rQPanwbo+FNekw7+HdPVAURU26vvfQ2ezjn3vq8OTRvD5ybS/722//tHQfiqIoavYVEz6mqMN7GbbOfpjn10F4pyhqmmXB3YK63RDpkhNPDIT3hfzKL19af6F0X4qiKGq2FRM+pqiXzZTha+1PnTqVbxkPD+9Qzqj9kQr40aTux5bKXHbjM3lwH5x1L5bdWAkG4fOlwY8GPxr8aGL042MaO7xP84TVMppczWYYCO+aUfsjFfCjSd3P/b03S4N6Wdk6eBiEz5cGPxr8aPCjidGPj2nk8F4VoocN18y8x82o/ZEK+NGk7uf2e14rDerFOnZNL7vqjpfyvcDh86XBjwY/GvxoYvTjYxo5vBsevIs3aSrOutu2qoBeFd79ICDc7tu4w2p7jNMfKYAfTep+7OZICyVhvVgLJ3v9myjBIHy+NPjR4EeDH02MfnxMY4V3w8O3V9lymWJ49yU34X5e4Yx98bWLj08Cwrtm3P6Yd/CjSd3PvY+9URrWi2Vr4i3owyB8vjT40eBHgx9NjH58TGOH965DeNek3h914EeTuh87CbUf0E8eDewHdfX+v2fOvp3vBQ6fLw1+NPjR4EcTox8fE+Gd8C5JvT/qwI8GP1n/pkwWzhdOlFxxZi+4H9sL9qtfezl/NoTQPxr8aPCjwY8mRj8+JsI74V2Sen/UgR8NfrJs98KH2drp7cPAbrPwe3Vpfo33z355M3v/gwv5syGE/tHgR4MfDX40MfrxMRHeCe+S1PujDvxo8HPI5ta7/XXtdmLq5Tdv9mfbv/XDl/AjoH80+NHgR4MfTYx+fEyEd8K7JPX+qAM/Gvxo8KPBjwY/Gvxo8KOJ0Y+PifBOeJek3h914EeDHw1+NPjR4EeDHw1+NDH68TER3gnvktT7ow78aPCjwY8GPxr8aPCjwY8mRj8+JsI74V2Sen/UgR9NV/y8895u9sgLb/WvDHPn93+ZPbi5k/32ncndT6IK+keDHw1+NPjR4EcTox8fE+Gd8C5JvT/qwI+mC37sRNJP3LR5eDWYvD563ZPZ6Ydez581HegfDX40+NHgR4MfTYx+fEyEd8K7JPX+qAM/mtj9WHC3oG53OL3kxBMD4X0hv5SjzcZPC/pHgx8NfjT40eBHE6MfHxPhnfAuSb0/6sCPJmY/tlTmshufyYP74Kx7sexOqdOA/tHgJ8t2d3ezlZWVbHFx8aB6vV7/sTo/at+QST/PuHjxYra2tiafM01srFdeeWWjsRape59lj4d16tSp/Jn7bG1tDTx+/PjxbHt7O390n9CXV/F1Jg2fL02MfnxMhHfCuyT1/qgDP5qY/dzfe7M0qJeVrYOfBvSPJnU/Ozs72fLycraxsZFv2f+dZcHOwqTyU7evM+nnGcWwWnx82vhY77rrrgM/VWMtMsz7LNJ03/X19SMB3raFYd0dTjPAp/75qiNGPz4mwvveB8sKykm9P+rAjyZmP7ff81ppUC/WsWt62VV3vJTvNVnoH03qfizQra6uZufPH5487TO0tv3s2bOVfur29e2Tfl4YYD2ATiq8+4x3GI7L8LGGfsrGWkbT91mG7bu0tJSdO3eu//8+3mIAr9pepPh6kyb1z1cdMfrxMRHeCe+S1PujDvxoYvZjdztdKAnrxVo42evfFXUa0D+aGP1UBSoLqmXLIUZFBVX7nWVf6+GHHy7102RfG+ekn1ekKrzbPsXtZbPWRdQ4nPA5xf5RYzVGfZ+G7xsG8qr31PRgwL4m4X12xOjHx0R43/twWEE5qfdHHfjRxOzn3sfeKA3rxbI18Rb0pwH9o4nRT1UgLZuxHQcPfmWz1j6Ge+65p9RPk33tsUk/r0jVYx5ePZg2DbNNwns41mL/qLEao75Poyzc++uVjbfJrHqT5+xe+LD0srYvvvb/9pcGvv/BhXzLUWL8fMVEjH58TIR3wrsk9f6oAz+amP3YSaj9gH7yaGA/qKv3/z1z9u18r8kSo59ZXfO+jBj9eNAMZ1jrQqWHOAt/ZVW2X5NQXBXem+xrj036eUXUY2GwteepWW2nSXgPv2axf9R4jFHfS9XBh28vC/V/9EfL2R/+4dFgbj9r7BK1//Q//9dA8Ldlfn966qfZr3c+6P+/YcH88pv3L3Mb/oyyz6v/DFNXy4rx8xUTMfrxMRHeCe+S1PujDvxoYvdjv9jsF9zCiZIrzuwF92N7wX71ay/nz548sfmpuua9rfu/5ZtbrYf4WPunOMvaNHwOQ5Mg2eXwbtjMsj1uVbX+21+jqoqBOfyaxf6pG0+T9/J/PfiT/uckxB9bXbv3yGfkxFdfyj61/Ln+415/8RfXZ//6j2/NPvUHn87+248Ox3cQuq9+PLvq2lsOZt1tFt0/i+HJ8xbky7bbAfj/ft2T/e3qXhWxfr5iIUY/PibCO+Fdknp/1JGCn3FmYmP3Y39yXju9ffALsD8Lv1eX5td4t+Cu/uw8LjH5Ude8vyS/nOaxa3tTv3FVSKz9U1wOMeklM4Z/DRUku7psxvGZ9KYHPk2Xzdistn3NsH/sL23/cN+TR8bzDz/6n9nNf7/VD8Lh+7RZbgvAHtT9vfzLf/fN/mfBlt0ZNrv+V3/9xX4QX/gPPx4I0Qd/3durYuj+V8tfzC779FXZ3/3gF/nWw9Btj/3BFVccOLGfU3bSvM2yW5APsZ/H9jPM9g2xr1E8yCgS6+crFmL042MivBPeJan3Rx3z7qdqJrbp3Ue74sfep61rtxNT7RekhXY7YJk2sfixX/xNr3lvNc0bV4XE2j/hMon33nuv8TpsC39lVbav71P2mM/8V52w2mRfC4aTfl6RuvBuBz0nT57sv/b1169mv37z6NpuC6sWlO0gOgzvFobtcxouI7GQ+4effzj71BVL2a1/c/dB/9i+For/+ZVfz/7gDw5DcThzbQHY3+c3/+u3B7Yb/j7/+b+/r7/dw7jvc9mf3d7fXvy5Yftb8A7vFWHvY/lP/jy7+vq/OhK6H/gfP5bOJkmsn69YiNGPj4nwvveBtIJyUu+POubZj5qJbXr3UfpHE4ufYa557zWtG1eFxNw/Hubuv//+yvA6DnXrqG171aUim+xr2yfxvL/+whezE9f8xcB2w0LsLXc9dCSI2kHy8b96Lrv/oecOHvvZz1/u//c/+7O/P5jRNizYer9ZWPbwXhaujf6yk6sfz/710mr2mT89ceCnP6N97Zn+9j/585MHY7Wwb2OxYG/jDd/n3z+wfTAjH25/9pW3+p8X29ewAxD7/r/yj682/otk1QGPbTcPZQdJ0yDmz1cMxOjHx0R4J7xLUu+POubVzzAzsSrE0T+aWPw0veZ9WOEygGkRc/94kLSwVQy1k8JnrsMwFwY/9+OhLwzJdfta0LTA6sHZn2fB9Povfie74orBcHn1l/5H/3l3/Of1fEuW/fjhR7JPLV6RfWTlniOh2wLxR/7ddwfGdbCm+z/8JPs3n7nyYJ37P/2v9/vB2paefOGbL/a3Gf46to8tbwln3m3W3UN3iI3j2lM/6n/d8CZN37nvRwNLUQz39vCjj+db6r2F+Hjqrtce4l8zfH2j7OtOm5g/XzEQox8fE+F974NkBeWk3h91zKufSd19lP7RxOKn6TXvL8lP7J3mjatCYu8fP+FyWkscbLmHhzqvK/ZC5N33Pt1/zP14ILz61o3slV+9l+99GAi9PIDarPH/8bmn+99L+/wWn2eB/C/vPPy96Gu3PYx72ev5MhI7ADR8GUn4PC87yPlP3zybffLP144cHNzz41eyT/+bf5t94Ytr+ZZ9/CBjWKree4h7K37/muxrVO0fEp6UW/VaPrMfPi+sYQ4OhiH2z9esidGPj4nwTniXpN4fdcTqx2as7BfeKCeZGpO6+yj9o4nFj81Wln1/i7V/VZ7eVG9cFRJ7/1gwK16H24Jx2V+jbBmanSdin80Q+4zayZFh6DbMrzm3A2nHXttnou1z7X4syPv3KLw6kn0t325LQJxwRttDt2Gvb+d82Pbw6xq2PMXGVBxn1fuyMU16adWwP9di759Zgx9NjH58TIR3wrsk9f6oI0Y/455kakzq7qP0jyYWPz6z2uSa91bTvHFVSJt+LGwWr+Rh2OfJgmIxJP7dD7azT336T7L/+Je35Vv2sTXU5ihcRmKv7WE59FYVrg+WlxS2h+E6DO/GyTvP9rdboA2xz7wF+mLotv+3MdrYioQngcbCKD/X2uyfLoIfTYx+fEythfdwfaBX0z81hn9SmvSfJwnvmrb6o6vE5sd+wdkvtHFOMjWazsTWhTj6RxOTH+sL+55WXfP+4GBuyjeuCmnixwKwjcWCbYhts94shlabQbYlI8WQG4ZiJ5yhDvvcAq9ducSWl1z35R/nW6tDejF0h1g4t/EUl4bYzLe9RjFIW7C3sdtrFv2UBfF5YNSfa036J2Xwo4nRj4+plfBedpkpC8xNwnhx7RnhvV3a6I8uE5MfCxqTOMnUGGYmVoU4+kcTkx8LgxZsD76/+TXvB/4CM+KNq8pmcq3H7CDR+jYknCkO/VTNLHsoDmeowxAdjtW2+3spbq8L3XbCZIgtN7HHiv1v/182U2/vs3ggMS4x9c+0GOfnWgp+xgE/mhj9+JhaCe+2LrDsElNll54KCUO/h3jCe7u00R9dJiY/kzrJ1KmbiW0S4ugfTYx+nvz5O9mnb91fb31YTxzcuGrl9peyrz/wT0dCt4VbW0JVnEG2cyJsv3Bm1EKxnzBZFbotrLsfe3643QnDdRi6Df+64fIVw8Zpa8yLS2Rsdrds7bZ9jbqD3VkRY/9MmnF+rqXgZxzwo4nRj49p6uE9vLRTEQvNVWdxFyG8z4Zp90fXicnPpE4ydSy0lM3EDnP30WH8WGga5yTbLjKN/rHvSdXabeuRYhA13xaAizPai7fsh+KP/cen+4/b9/v/fm6nNHRbr3ifWDB2moTu8Drdhn0d28fGE/qx/7evWRy/zepXrd2mf7rPOD/XUvAzDvjRxOjHxzT18O6z52Whe5hATnifDdPuj64Tkx+beZzESaZFLPTZa9s+HuKKs6tVNPVjX2Pck2y7hM/uhn4saNosYzGEemgtW7vtITfEvk/mLpyFtLDsobsYot11GHyKM+AhFs5tezF0W8iyfYpXKbFesf4phm57v2rJldG0f1IlBT/j/FyjfzT40cTox8c09fCuQndM4d09UFRX6657Xiz9pVYsWzt6/Z3Plb7GLOp7D+2vZVYno31p/YXSfduux5955ci2p57byv722z/t/xtut+/HH3/xmey7D/5sYPvJrzzbf09/863B9/TJm5/qb7fHfdvPX/nH7KPX7jv4s//zmYPtP/3ZVn9bcbs9/+Of2w/dn/3y5sF2q6W/3g/vt979/MB2c2v7fOuHLw1st3F//r88f+Q929d+4Cc/H9hGUdOqrv5co+anYsLHRHgnvFNzUg/3Xt7/RWbLWwq/2A4qP8m0GChnVc++uJV97IYnG52MZu+v7DWa1I8ePxo2bZsF6GI4tbBgQbcYZi0M2ziK4ddDtwX1cLuHbnst3xaG8eLzPVyH4d3Knmfbi2HfDhgsuNvBT7jdPNlziwcTVmUeKCrm6uLPNWq+KiZ8TCybycM7lDPt/ug6sfmZxEmmk6TOzygno9l6bluyUVyGYSci2rKe4jISW/Zh+4drtA17rm0Pl4uEa7TDtduGP7+43ZeRFF/fzxcoLvuxZST2PbD3Efqxtdtly2aM4kmUqVDXP6mTip9Rf67RPxr8aGL042NqLbxzwmo3mXZ/dJ1Z+FEndlr49NDYL5ut2qthTjIdhqqgaSHUxhT6sfXN9vVtfbszcDJaPntWVn4yWniiY/HkNF/TXRW6i8/30F28Sok5tQBfvEqJjd+eW1x7bu/XHrOxDcss+qdL4EeTip9Rf67RPxr8aGL042OaenivuiRkk0tFhhDeZ8O0+6PrtO2n6YmddSeZll1328K2zV77gYBjBwc2e108udB/mdq/IRaSbbuF49CPh+jwpDIbo7+Hytr7JR2ejOah24J/iIVte6x4Mq2FbQvkxZl6CwRlV2Vpk7b7p2vgR5Oan2FPnqd/NPjRxOjHxzT18G548C7epKk4627bqgI64X02tNEfXaZNP3b9bQutZSd29mei9v612XjHwqz9kivOIHtgLi7zsOfa9uLMtd/u3f4N8e32SzTEw7WF+NCPf93iGG2bj/9I5bPx9p5tf6fs4KOLtNk/XQQ/Gvxo8KPBjyZGPz6mVsK74eHbq2y5TDG8+5KbcD+vpjP2dRDeNW31R1dp4sf+nGuzQ8V1yzbra4E0XEZi2Ay6LdsIZ9Jt34/kJzoWq7gO1GeYfaa7GK6rwriHbpvNCrFx2Pbi2m0btz23OHttM/c2W2/vu+in+KdtG6u9dmV4t8oDfN1lBbtIk/5JGfxo8KPBjwY/mhj9+JhaC++xQnjXpNIfxWBthGu3Qyy02jISC+ShHz+pqngbdT9hsumMtq/dDkP3KCd2Wti21yjOvPtBQzF0W7Aede12FU36Z9ST0eaBJn5SBj8a/Gjwo8GPJkY/PibCO+FdEnt/FE8eNGxJhQXo4hpnC9sWoC0Ih1jYtaAYLsswqkK3z2hb6A791M1oh2u9DVu2UvZ1fblLOM5x7jI4S5r0z2/f/f+yk1/dd90vm4Xfq2mdZBsTTfykDH40+NHgR4MfTYx+fEyEd8K7ZFr9YbO+ZUsoLEgXZ4QtxFogLs4g+wmTxbXbfsJkcbmIr+m2me0QD93F53u4LoZ3D9L29UM/Nmttgb94qcKqE0GNpmu3LeBP6u6p9hcFO5Apu1rNpKnrH/srxuAJuPuB3Wbhl77wvDwZbR6o85M6+NHgR4MfDX40MfrxMRHeCe+SsD9sOYUF1OISEwvdZWu3LXTb2m1fxuHYTKoFtGIo9hnqYoj27cXQXRXSPXQXZ6B9LXlxWYuv3S6uqbaDCwu2ZUtq/MCjrc/PwYmdNVU8sbPI0bC8X8Wr1UwK5cfG4mOuurNqeHJrrIxzMNRW/3QV/Gjwo8GPBj+aGP34mAjvCYd3D63FmWI/QbE4s1w1E10Voj10W2AOqQvdNnsdYgcB9txi6K6aqfdLAE5y7XYVw35+Rg16kzixcxZhucqPebjsxmfysRyOo6yKy59iYtyDoWH7JzXwo8GPBj8a/Ghi9ONjIrwnHN6rwnU40x32h28vrum2wGfbiycV+hrz4nKXqjXpRtka9pgZ5vMzbtBzz6Oc2DmrsFzlxw7Iyr52WRX/chMLkzgYGqZ/UgQ/Gvxo8KPBjyZGPz4mwnvC4d0CtAWM4s1uLJT42u2wP2yG2IJ42UzxtNZMx07Tz88kgp79JcHX+fdriBM7ZxWWq/x09QRcZ1IHQ037J1Xwo8GPBj8a/Ghi9ONjIrwnHN6bkHp/KCzAfeuHL2VfWn9BLoGZ9Ky3HQjYunY7MdWWE1lorzuxc1Zhuap/JnkC7iyY1MEQny8NfjT40eBHgx9NjH58TIR3wrsk9f6oYpglMDEsEZlVWK7qn0mdgDsrJnUwxOdLgx8NfjT40eBHE6MfHxPhnfAuSb0/yhh2Ccykgp7N4I96VZNZheWq/rG/MPS/5hgn4M6SSR0M8fnS4EeDHw1+NPjRxOjHx0R4J7xLUu+PIqMsgZlE0Btmpr+MWYVl1T/jnIA7ayZ1MMTnS4MfDX40+NHgRxOjHx8T4Z3wLkm9P4qMsgRm3KA3iZNdjVmEZdU/45yAO2smdTDE50uDHw1+NPjR4EcTox8fE+Gd8C5JvT+KjLIEZpygN8mTXWcRlpv0zygn4A7LOEuOqpjEwRCfLw1+NF32M43PZBH6R4MfTYx+fEyEd8K7JPX+KDLqEphRg940TnZtIyw7MfTPuEuOqpjEwRCfLw1+NF31M63PZBH6R4MfTYx+fEyEd8K7JPX+KDLqEphRg17Xr4c+6/6Z1JIjxTgHQ3y+NPjRdNFPG59Jh/7R4EcTox8fE+Gd8C5JvT+KjLvWedigN+pMfyzMsn8mueRoWvD50uBH0zU/bX8m6R8NfjQx+vExEd4J75LU+6OMSax1bkrXr4c+y/6J4fr6dfD50uBH0zU/bX8m6R8NfjQx+vExEd4J75LU+6OMNk/8HHemf9bMsn+6sOSIz5cGP5qu+Wn7M0n/aPCjidGPj4nwTniXpN4fClsCc/2dz2VX3PLUVE/8bHOmf9LMsn+6sOSIz5cGP5qu+Wn7M0n/aPCjidGPj4nwTniXpN4fdbThp8vXQ59l/3RhydEs/XQB/Gi65qftzyT9o8GPJkY/PibCO+Fdknp/1NGmn3GuajIrZtk/XVhyNEs/XQA/mq75afszSf9o8KOJ0Y+PifBOeJek3h914Eczaz+xLzmifzT40XTRT5ufSfpHgx9NjH58TIR3wrsk9f6oAz+aWfuJfckR/aMZxk8bd+yMjS72T5ufyS76aRP8aGL042MivBPeJan3Rx340cTiJ9YlR/SPpqkf+/62ccfO2Ohy/7TxmeyynzbAjyZGPz6mscP77u5utrKyki0uLh5Ur9fLH62myX5bW1sDj3stLS1l586dy581HoR3zbj9Me+k7qdutpP+0eBH08SPhUAL6vs3/pnuHTtjg/7R4EeDH02MfnxMY4X3nZ2dbHl5OdvY2Mi37IdhC9gqwDfdz8L78ePHs+3t7XzL5CG8a8bpjxRI2U+T2U76R4MfTZ2fLtxFd5q03T9dW5rUtp+ugR9NjH58TGOF9/X19Wx1dTU7f/7ww3vx4sVsbW3tyPaQpvsR3qfDMD+Ax+mPFEjVT9PZTvpH05afrq4Hr/PThbvoTpO2+sfo4tKkNv10EfxoYvTjYxo5vPuyl3D23LEwXBW6h9mP8D55hv0BPGp/pEKKfoaZ7Xy49zL9I2ijf7oYupw6P124i+40aaN/jKYH67HRlp+ugh9NjH58TCOHd1/6UrY8xteqlz02zH6E98kyyg/gUfsjFVL0M8xs5613P0//CKbdP10NXU6dHzvhMfa76E6TafeP0eWlSW346TL40cTox8c0cnhXAX1Sj/n/hzXpMO/h3T3Maz374lb2sRueHGq2lKLK6vP/5fnSvimWzXb+8RefKX0NavqVwmf+rnteLH0/xTIH19/5XOlrULq+cV8zx1Z+sE5R81Qx4WOKOryXYevl654zDKmEd34AU5MqC0FNZzuvuOWp0tegpl/DfOb/6Lan+5/7f/jvL2VPPbdV+noxlh109N+DXSu88J4OKr9j53cf/Fnpa1C6OFinUq+Y8DFFvWymDF8zf+rUqXzLeHh4n3dGXRs6an+kQop+7n3sjdLeKVY42xkbsZzAOc3+afqZL1ZMa+Gb+LHvoY17VnfRnWUvTbN/nC4vTWrDT5fBjyZGPz6mscP7sCesjrqf0+RqNsOQSngf9QfwqP2RClV+unp1jybYutZ+vwwx2xkTMZ3AOc3PV9PP/CWF0BvTWvgmfmZ5F91Z99I0+8cZ5mDdei4m2vDTZfCjidGPj2nk8F4VouvC9aj7Ocy8j8aoP4BH7Y9UKPMTUzhsyrAHG01nO2Prn9hO4Jymn6af+f3vYcn3ca9mfQLiMH7se2s/u9q6i24MvTTN/nGGOVg/c/btfK84aMNPl8GPJkY/PqaRw7vhy1yKN1sqzp7btnA5TJP9PMyHS2h8G3dYHZ5RfwCP0x8pUPQTWzhswigHG01nO2PqnxivmjFNP8N85qtq1tdGj6l/QmLppbb8ND1Yj41Y+ycW8KOJ0Y+PaazwbngQ9ypb9lIM70aT/YrPsZrUchknlfBujPIDeNz+mHdCPzGGwzrGPdiom+2MqX9ivKHPtP3UfebVspoYro0eU/+ExNJLbfmZ5dKkcYi1f2IBP5oY/fiYxg7vXSel8D7KD+DU+6OO0E/X7vbYxsFGTP3T9ATOhb3PxCc/vzmwfGjYZUVNmbafqs98V05AjKl/QmK5OVTbfuoO1pswrc9SGbH2TyzgRxOjHx8T4T2h8O4M8wM49f6oI/TTtbs9tnGwEVP/WM/XhdayGeqPXPtk9i+uf+rI9kmcw9CWn/Az/y9Xn87fw+BfWoplB3W2zyyJqX9CmvSS1bQPgGL1U4X1YZvnA3XNT9vgRxOjHx8T4T3B8D4MqfdHHaGfWH6hN6WNg42Y+qfJCZz74b0Qav0vEzZrHWyfxDkMs/AzzFr4WZ+AGFP/hMRyBZZY/ZRhwd2dtHU+UJf8zAL8aGL042MivBPeJan3Rx2hn65dUq2Ng42Y+keF1oX++u88pI9QXVtWVLcWPpYTEGPqn5BYDoBi9VNkVucDdcXPrMCPJkY/PibCO+Fdknp/1BH66dKMptHGwUZs/SND6xjVtWVFXTkBMbb+CYnhAChmPyGzOh+oK35mBX40MfrxMRHeCe+S1PujjqKfrsxoGm0cbMTWP1Wh9eD/R6guLyuaxAmI0yS2/gmJ4QAoZj8hszofqCt+ZgV+NDH68TER3gnvktT7o46in67MaDrTPtiItX/C0PrP/uLoyajlVeJor+ZlWVGMdMHPLA+AutI/bSzRK6MrfmYFfjQx+vExEd4J75LU+6OOKj+xz2g60z7Y6EL/jHsn0nlaVhQb4/hp85KEs6Ir/TOr84G64mdW4EcTox8fE+Gd8C5JvT/qmBc/0zrY6IKfYZYPVW2fl2VFsTGqH+vnNi9JOCu60j+zOh+oK35mBX40MfrxMRHeCe+S1PujDvxouuKnbvlQ6Z/853hZUSyM4seCu31/9q9s0s4lCWdFl/pnFucDdcnPLMCPJkY/PibCO+Fdknp/1IEfTVf81C0fqtqewrKiWTKsn1ldknBWdKl/ZnE+UJf8zAL8aGL042MivBPeJan3Rx340XTNT9XyoZSXFc2SYf3M6pKEs6KL/TOtz1IZXfTTJvjRxOjHx0R4J7xLUu+POvCjwY8GP5ph/czqkoSzgv7R4EeDH02MfnxMhHfCuyT1/qgDPxr8aPCjGdaPzejO4pKEs4L+0eBHgx9NjH58TIR3wrsk9f6oAz8a/GjwoxnWz6wuSTgr6B8NfjT40cTox8dEeCe8S1Lvjzrwo8GPpot+2rx++rB+ZnVJwlnRxf5pE/xo8KOJ0Y+PifBOeJek3h914EeDH03X/LR9/fRR/MzikoSzomv90zb40eBHE6MfHxPhnfAuSb0/QspmHJ96bgs/AvpH0yU/s7h++ih+ZnFJwlnRpf6ZBfjR4EcTox8fE+Gd8C5JvT+cqhnHj1zby/722z/NnwVF6B9NV/zM6vrp4/hp85KEs6Ir/TMr8KPBjyZGPz4mwjvhXZJ6fxizmHGcF+gfTVf8zOr66fSPBj8a/Gjwo4nRj4+J8E54l6TeH6ndsXHSpN4/dXTFz6yun07/aPCjwY8GP5oY/fiYCO+Ed0nq/ZHaHRsnTer9U4e5efbFrdau3jIqs7p+uvdPm1e46RJ8vjT40eBHE6MfHxPhnfAuSb0/Urtj46RJvX/q+N5DZ7OPf+6pI/00rau3jMqsrp9uvWOO2rzCTZfg86XBjwY/mhj9+JgI74R3Ser9kdodGydN6v2j6NK5FLO6froFd3tNzjcph8+XBj8a/Ghi9ONjij687+7uZisrK9ni4uJB9Xq9/NHxIbxrYu+PadN0xtEC/h996QX+pF9gUv0ziWUT4Wv8zXe3s9s3XsvuuPf/OfJ6bSzR6OK5FObDxtPW9dPN0cdueLJTjtom9Z/PdeBHgx9NjH58TFGH952dnWx5eTnb2NjIt+yH7UkGeMK7Jub+aIMmM45lYYY/6e8zif6pukznMI6Lr1H1PVs7/YtWlmh08VyKtq+fzvkm9aT+87kO/Gjwo4nRj48p6vC+vr6era6uZufPH856Xbx4MVtbWzuyfVQI75qY+6Mt5IzjwXb+pF/GuP0ziaUlZa9R+j3LD9Da+H52+VwK89nG9dM536Qefj5r8KPBjyZGPz6maMO7L5cJZ90dC9vHjx/Ptre38y2jQ3jXxNofbVI142hLZaoCfVgpX0JynP6ZxNKS4mssXF39PVOPhTWJ7yfnUtSDo3r4+azBjwY/mhj9+JiiDe++ZKZseczW1tbEls4Q3jWx9scsCGcc/9Xq06VBoqxS/ZO+MU7/TGLZxDCv0bQm8f2c1dVbugSO6uHnswY/GvxoYvTjY4o2vKuAPo3wTlHD1HVfebw0SBTLlmL84X96ovQ1KF2TcNz0NZrWpL6f3/7+T/Zf0/6KU/gaB5VfveWu0z8pfY15LxxRFDXrIrwPSVvh3Sj7hlGUqn9/6olGf9K3+uRNhPdRahKOB1+jdxD2jpZ6bLAm9f286T/vH1iULtXpL+F5IvvT29LuHRxRFDXLio3ow3tby2YARoE/6U+fSThu+hpNa5Lfz7av3tJFcAQAcEhnwvu0T1gFGIUml5D0mdxJ3rQmJSbhuPQ11OvN4PvZ1tVbugyOAAA6EN6rLgk56UtFAoxK2zetSZFJOB54jTycl75eXnw/AQAgRqIP74YvjynepIlZd4gB/qQ/fSbhuPgaA+G88HqLn3+28jG+nwAAMEs6Ed4ND/BeBHeIDf6kP30m4Th8jY997unsk3/57F5tHnk9vp8AABAjnQnvAAAAAACpQ3gHAAAAAOgIhHcAAAAAgI5AeAcAAAAA6AiEdwAAAACAjkB4BwAAAADoCIR3AAAAAICOQHgHAAAAAOgIhHcAAAAAgI5AeAcAAAAA6AiEdwAAAACAjkB4BwAAAADoCMmH993d3WxlZSVbXFw8qF6vlz+aDltbWwMOvJaWlrJz587lz9onJWcXL17M1tbW5Hts4mMendW5adpT8+Ym9OJ16tSp/NFBUuydpn7on+r37NA/+1XmJ9X+CQldlX3GUuyfEOUn9v5JOrzv7Oxky8vL2cbGRr4lyx599NHW5MeENerx48ez7e3tfEs5KTkrfnjL3l8TH/PorImbJj01j27W19cHfhG4q+Ivh1R7p6mflPsnfD8eDoqhIeX+aeIn1f4JsfdiDm644QZ+/pSg/MTeP0mHd/shsLq6mp0/fz7fcngkVtw+7zRpVCMVZ+GH0sNF2YexiY95c9bUTZOeSqWf7H0Ww0WKvVNFmR/65xAPGaEL+ueQMj+p948f1Dz++OP991MMp6n3T52f2Psn2fDu37jwiMkp+0Ew7zRp1FSdmZuygNrExyuvvDLXzqrcGHU9lVI/2fsJwym9M0jRj0H/HFJ8P/TPIGXvJ/X+8WD5+9///kg4pX+0HyP2/kk2vPvsYVXoaOPPHjFR16hGqs6q3lsTH/fdd99cO1PvwR5TPZVSP9kvijCc0juDFP0Y9M8+/l7CkED/HFLmx7DtqfaPvbcrr7yy/959JjgMp6n3T50fI/b+STa8K7ldb8xR8PccVrFxU3VW9d6a+Pj6178+186aOAgr7Kkm+3bZjeM/5MNw0eS9z3vvOGV+DH+PYaXQPx4mwvdd5SbF/mnix/D3GFZK/eNhtCycNnnv894/yo/h7zGsmPqH8D5njTlJbDYs9JCqs6r31sRHyuG9jLCnmvjrshvDfzGUzSrXvfcUwnuVnypS6x/D/zw/bHBI5eCvzE8VKfSPjT38PBHeB2nip4qY+ifZ8D7rP3l0Af+h6E2dqrOq99bER8rLZsoIeyqFfrIf9mWhgt7Zp8pPFan1jzPKz+KUll0V/VQx7/3j7y/8S0RZOE21f5r6qSKm/kk+vJf9uW0eTsaYBN7UftZ0qs6qPohNfNg+8+xs2B9SYU/9+te/nms39h6q3NA72k8VKfVPyCg/i+e9f0KKfqqY9/7xn8eqrC9S7Z+mfqqIqX+SDe9VH/amPwRSoDibkaqzqoDaxIefyT6vzoYN72FPzXM/2Q9v81L2g91IvXfq/FSRSv8UGeVn8bz/7Akp+qkixf7x9xO6afLeU+mfMj9VxNQ/yYZ3w4NH+Aukq0eU4+DNFgYw31a1VjclZyqgNvExz86q3DTtqXl0U/aeyki1d5r4SbV/PByUve/ie0qxf5r6SbV/yvD3XQynKfZPGWV+utA/SYd3w+V7zVNTDkPRg1XVkWMKzvzPiuH79Cp6aeJjnpw1ddO0p+bJjf+AD99PWFW/QL3mvXeG8ZNi/xhN37eRWv8Yo/ZF0+d13U+RsnDqpNg/Rar8xN4/yYd3AAAAAICuQHgHAAAAAOgIhHcAAAAAgI5AeAcAAAAA6AiEdwAAAACAjkB4BwAAAADoCIR3AAAAAICOQHgHAAAAAOgIhHcAAAAAgI5AeAcAAAAA6AiEdwAAAACAjkB4BwAAAADoCIR3AAAAAICOQHgHAAAAAOgIhHcAAAAAgI5AeAcAAAAA6AiEdwAAAACAjkB4BwAAAADoCEfCO0VRFEVRFEVRcZeF96eKGymKoiiKoiiKiq1e/af/H2S1+Z6usTXFAAAAAElFTkSuQmCC)"
      ],
      "metadata": {
        "id": "8Q2C0Nv8OqeT"
      }
    },
    {
      "cell_type": "markdown",
      "source": [
        "##Conclusiones generales##\n",
        "R-squared: este nos indica la \"variación porcentual en dependiente que es , explicada por variables independientes\". En nuestro caso, el 77.3% de la variación en nuestra Y (que es \"Winprobability\"), es explicada por nuestras X (\"Wins\" y \"Races\"). El resto (22.7%) esta sin explicarse.\n",
        "\n",
        "Prob (F-Statistic): nos inica la importancia general de la regresión, nos sivre para evaluar el nivel de significancia de todas las variables juntas. Este igual nos dice la probabilidad de que la hipótesis nula sea cierta. Según los resultados que vemos arriba, la probabilidad es cercana a cero, por lo tanto las regresiones son significativas.\n",
        "\n",
        "Ahora hablando del valor de p, tenemos que fijarnos si hay un valor que nos de mayor que el nivel de significación, porque esto nos puede indicar que no hay pruebas suficientes en la muestra para poder concluir que exista una correlación distina que cero. En el ejemplo de arriba podemos ver que \"Wins\" y \"Races\" son estadísticamente significativas ya que sus valores p son iguales a 0.000.\n",
        "\n",
        "La ecuación que viene en el gráfico nos indica que por cada carrera que gane un piloto durante su carrera su probabilidad de éxito aumenta 0.0001.\n",
        "\n",
        "Viendo estos resultados podemos concluir que la probabilidad de que a un nuevo piloto le vaya bien es baja. Su probabilidad de éxito nada más aumentará si en sus años de experiencia, logra ganar muchas veces o la cantidad equivalente a la cantidad de carreras que ha hecho (\"Races\").\n"
      ],
      "metadata": {
        "id": "Rym8VoGl-XSz"
      }
    },
    {
      "cell_type": "markdown",
      "source": [
        "#Conclusiones#\n",
        "**¿Cuál fue el motivo de elegir tu base de datos?**\n",
        "\n",
        "La razón por la que escogimos esta base de datos es porque desde que eramos  chicas nos gustaba ver la F1, y nos encantaría saber más a detalle las probabilidades que existen dentro de este deporte, como por ejemplo, la probabilidad de que un nuevo piloto tenga éxito dentro de este deporte tan riesgoso. Durante los años, nos hemos dado cuenta que es sumamente difícil triunfar dentro de la F1. Tienes que tener un talento natural para el deporte, a parte de tener muchísima suerte de que la correcta escudería te quiera contratar. Son muchos factores que se deben tomar en cuenta para saber que tanto éxito puedes llegar a tener, nosotras en base a los años de experiencia y las veces que han ganado antiguos pilotos, sacamos la probabilidad de que un nuevo piloto le pueda ir bien en el futuro.\n",
        "\n",
        "**¿Cuáles fueron tus fuentes para desarrollar el proyecto?**\n",
        "\n",
        "Buscamos en internet la cantidad de puntos y campeonatos que los pilotos han tenido durante los años. La información no esta actualizada al 2022. La actualización de la información es del 2019.\n",
        "\n",
        "**¿Cuáles fueron tus metas para tu entendimiento del proyecto?**\n",
        "\n",
        "Nuestro principal objetivo era predecir la probabilidad de éxito de un nuevo piloto que entre a la F1. Las probabilidades pueden ser diferentes para cada época, ya que este deporte ha evolucionado desde que empezó hasta ahorita. Igual pudimos ver que entre más experiencia obtienes y menos carreras ganas, tu probabilidade de éxito (\"Wins\") va a ir disminuyendo.\n",
        "\n",
        "**¿Qué elementos representativos tomaste en cuenta, esto es cuáles fueron tus variables explicativas y cuál fue tu variable responsiva?**\n",
        "\n",
        "Nuestras variables explicativas fueron la cantidad de carreras que han tenido los pilotos, \"Races\", y la cantidad de veces que han ganado, \"Wins\".\n",
        "\n",
        "Nuestra variable responsiva es la probabilidad de éxito, \"Winprobability\". \n",
        "\n",
        "###Conclusiones individuales###\n",
        "Daniela: Creo que las regresiones lineales son sumamente importante en el mundo de los negocios. Nosotras que estudiamos Negocios Internacionales nos puede servir mucho a futuro. Poder predecir la probabilidad de éxito sobre algo dentro de una empresa puede evitar algún fracaso en el futuro, o disminuirlo. Usando el ejemplo de la F1, una nueva escudería podría estar interesada en entrar a la competencia, pero estan indecisos si les irá bien, o si vale la pena invertir una gran cantidad de dinero. Por eso este tipo de proyectos pueden ser de gran ayuda, para saber que tanta probabilidad tienen para que les vaya bien y en que se basa esa probabilidad, experiencia? dinero? En base a esto podrán saber cómo actuar y qué les conviene más hacer.\n",
        "\n",
        "Fátima: Realizar este trabajo o examen final me ayudó a comprender de una forma práctica lo que son las regresiones lineales, como podemos aplicarlas en nuestro día a día y como por medio de la estadística podemos predecir lo que viene siendo un valor de datos desconocidos mediante el uso de otros valores (claramente relacionados) pero estos conocidos, en este caso usando el ejemplo de la Fórmula 1, un tema que me interesa mucho y por lo tanto, que me fue más sencillo entender. Claramente este tema al momento de comenzar mi vida laboral me puede ser de mucho uso ya que esto puede aplicarse a muchas áreas dentro de una empresa para saber qué es lo que debe hacerse  debido a que se hará o se predecirá más bien, el comportamiento de alguna variable que se esté evaluando (por ejemplo, querer predecir lo que vienen siendo las ventas a nivel anual partir de distintas variables).\n",
        "\n"
      ],
      "metadata": {
        "id": "qfe73ae5VNZX"
      }
    }
  ]
}